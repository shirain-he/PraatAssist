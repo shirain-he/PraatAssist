{
 "cells": [
  {
   "cell_type": "code",
   "execution_count": 1,
   "metadata": {},
   "outputs": [],
   "source": [
    "from pypinyin import pinyin, Style"
   ]
  },
  {
   "cell_type": "code",
   "execution_count": 2,
   "metadata": {},
   "outputs": [
    {
     "data": {
      "text/plain": "['和', '斗', '为']"
     },
     "execution_count": 2,
     "metadata": {},
     "output_type": "execute_result"
    }
   ],
   "source": [
    "ChineseWordList = [0 for i in range(3)]  # 拿来放从文件每行找到的汉字\r\n",
    "ChineseWordList[0] = '和'\r\n",
    "ChineseWordList[1] = '斗'\r\n",
    "ChineseWordList[2] = '为'\r\n",
    "\r\n",
    "ChineseWordList"
   ]
  },
  {
   "cell_type": "code",
   "execution_count": 7,
   "metadata": {},
   "outputs": [
    {
     "name": "stdout",
     "output_type": "stream",
     "text": [
      "和\n",
      "斗\n",
      "为\n"
     ]
    },
    {
     "data": {
      "text/plain": "[['he2', 'he4', 'hu2', 'huo2', 'huo4', 'huo'],\n ['dou4', 'dou3', 'zhu3'],\n ['wei4', 'wei2']]"
     },
     "execution_count": 7,
     "metadata": {},
     "output_type": "execute_result"
    }
   ],
   "source": [
    "pinyin_list = [0 for i in range(3)]  # 拿来放从每个汉字找到的拼音\r\n",
    "for i in range(3):\r\n",
    "    print(str(ChineseWordList[i]))\r\n",
    "    pinyin_list[i] = pinyin(str(ChineseWordList[i]), Style.TONE3, heteronym=True, errors='default', strict=True)[0]\r\n",
    "pinyin_list"
   ]
  }
 ],
 "metadata": {
  "kernelspec": {
   "display_name": "Python 3.8.8 64-bit (conda)",
   "name": "python388jvsc74a57bd0e746eafcc9c3755c618fd70b7289e2c77c6dfaa86036ed9f41128bb78d1ac1c4"
  },
  "language_info": {
   "codemirror_mode": {
    "name": "ipython",
    "version": 3
   },
   "file_extension": ".py",
   "mimetype": "text/x-python",
   "name": "python",
   "nbconvert_exporter": "python",
   "pygments_lexer": "ipython3",
   "version": "3.8.8"
  },
  "orig_nbformat": 2
 },
 "nbformat": 4,
 "nbformat_minor": 2
}